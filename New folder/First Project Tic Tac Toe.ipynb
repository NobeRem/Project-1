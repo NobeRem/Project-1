{
 "cells": [
  {
   "cell_type": "code",
   "execution_count": 1,
   "id": "6bca43f6",
   "metadata": {},
   "outputs": [],
   "source": [
    "from IPython.display import clear_output\n",
    "\n",
    "def display_board(board):\n",
    "    clear_output()\n",
    "    print(board[7]+  '|'  +board[8]+  '|'  +board[9])\n",
    "    print('------')\n",
    "    print(board[4]+  '|'  +board[5]+  '|'  +board[6])\n",
    "    print('------')\n",
    "    print(board[1]+  '|'  +board[2]+  '|'  +board[3])"
   ]
  },
  {
   "cell_type": "code",
   "execution_count": 2,
   "id": "b65bdf7a",
   "metadata": {},
   "outputs": [],
   "source": [
    "def player_input():\n",
    "    marker = ''\n",
    "    \n",
    "    while (marker != 'X' or marker != 'O'):\n",
    "        marker =(input('Player 1: Select X or O: ')).upper()\n",
    "        \n",
    "        if marker == 'X':\n",
    "            return ('X','O')\n",
    "    else:\n",
    "        return ('O','X')"
   ]
  },
  {
   "cell_type": "code",
   "execution_count": 5,
   "id": "0fa6d84f",
   "metadata": {},
   "outputs": [
    {
     "name": "stdout",
     "output_type": "stream",
     "text": [
      "Player 1: Select X or O: x\n"
     ]
    }
   ],
   "source": [
    "player1_marker, player2_marker = player_input()"
   ]
  },
  {
   "cell_type": "code",
   "execution_count": 6,
   "id": "49f65346",
   "metadata": {},
   "outputs": [
    {
     "data": {
      "text/plain": [
       "'X'"
      ]
     },
     "execution_count": 6,
     "metadata": {},
     "output_type": "execute_result"
    }
   ],
   "source": [
    "player1_marker"
   ]
  },
  {
   "cell_type": "code",
   "execution_count": 7,
   "id": "e7781051",
   "metadata": {},
   "outputs": [
    {
     "data": {
      "text/plain": [
       "'O'"
      ]
     },
     "execution_count": 7,
     "metadata": {},
     "output_type": "execute_result"
    }
   ],
   "source": [
    "player2_marker"
   ]
  },
  {
   "cell_type": "code",
   "execution_count": 8,
   "id": "2b22c79d",
   "metadata": {},
   "outputs": [],
   "source": [
    "def place_marker(board, position, marker):\n",
    "    board[position] = marker\n",
    "    "
   ]
  },
  {
   "cell_type": "code",
   "execution_count": 9,
   "id": "f3f633af",
   "metadata": {},
   "outputs": [],
   "source": [
    "def win_check(board,mark):\n",
    "    \n",
    "    return ((board[7] == mark and board[8] == mark and board[9] == mark) or \n",
    "    (board[4] == mark and board[5] == mark and board[6] == mark) or \n",
    "    (board[1] == mark and board[2] == mark and board[3] == mark) or \n",
    "    (board[7] == mark and board[4] == mark and board[1] == mark) or \n",
    "    (board[8] == mark and board[5] == mark and board[2] == mark) or \n",
    "    (board[9] == mark and board[6] == mark and board[3] == mark) or\n",
    "    (board[7] == mark and board[5] == mark and board[3] == mark) or \n",
    "    (board[9] == mark and board[5] == mark and board[1] == mark)) "
   ]
  },
  {
   "cell_type": "code",
   "execution_count": 11,
   "id": "6c52345c",
   "metadata": {},
   "outputs": [],
   "source": [
    "import random\n",
    "\n",
    "def choose_first():\n",
    "    rand = random.randint(0,1)\n",
    "    if rand == 0:\n",
    "        return 'player1'\n",
    "    else:\n",
    "        return 'player2'"
   ]
  },
  {
   "cell_type": "code",
   "execution_count": 12,
   "id": "cac48c6d",
   "metadata": {},
   "outputs": [],
   "source": [
    "def space_check(board, position):\n",
    "    return board[position] == ' '"
   ]
  },
  {
   "cell_type": "code",
   "execution_count": 13,
   "id": "7e0226e2",
   "metadata": {},
   "outputs": [],
   "source": [
    "def full_board_check(board):\n",
    "    for x in range(1,10):\n",
    "        if space_check(board,x):\n",
    "            return False\n",
    "        \n",
    "        \n",
    "    return True\n",
    "         "
   ]
  },
  {
   "cell_type": "code",
   "execution_count": 14,
   "id": "f68bb808",
   "metadata": {},
   "outputs": [],
   "source": [
    "def player_choice(board):\n",
    "    position = 0\n",
    "\n",
    "    while position not in [1,2,3,4,5,6,7,8,9] or not space_check(board,position):\n",
    "        position = int(input('Choose a position: 1-9 '))\n",
    "        \n",
    "    return position\n",
    "    "
   ]
  },
  {
   "cell_type": "code",
   "execution_count": 15,
   "id": "44248368",
   "metadata": {},
   "outputs": [],
   "source": [
    "def replay():\n",
    "    \n",
    "    input('Do you wish to continue yes or no').lower()\n",
    "    if 'yes':\n",
    "        return True\n",
    "            \n",
    "           \n",
    "    else:\n",
    "        return False    "
   ]
  },
  {
   "cell_type": "code",
   "execution_count": null,
   "id": "eb22deb9",
   "metadata": {},
   "outputs": [
    {
     "name": "stdout",
     "output_type": "stream",
     "text": [
      "O|X|O\n",
      "------\n",
      "X|O|X\n",
      "------\n",
      "O|X|O\n",
      "Its a Tie ;-;!\n"
     ]
    }
   ],
   "source": [
    "print('Tic Tac Toe!')\n",
    "\n",
    "while True:\n",
    "    # Reset the board\n",
    "    theboard = [' '] * 10\n",
    "    player1_marker, player2_marker = player_input()\n",
    "    turn = choose_first()\n",
    "    print(turn + ' will go.')\n",
    "    \n",
    "    play_game = input('Are you ready to play?. Yes or No?')\n",
    "    \n",
    "    if play_game.upper()[0] == 'Y':\n",
    "        game_on = True\n",
    "    else:\n",
    "        game_on = False\n",
    "\n",
    "    while game_on:\n",
    "        if turn == 'Player 1':\n",
    "            # Player1's turn.\n",
    "            \n",
    "            display_board(theboard)\n",
    "            position = player_choice(theboard)\n",
    "            place_marker(theboard, position, player1_marker)\n",
    "\n",
    "            if win_check(theboard, player1_marker):\n",
    "                display_board(theboard)\n",
    "                print('Player 1 Won!!')\n",
    "                game_on = False\n",
    "            else:\n",
    "                if full_board_check(theboard):\n",
    "                    display_board(theboard)\n",
    "                    print('Its a Tie ;-;!')\n",
    "                    break\n",
    "                else:\n",
    "                    turn = 'Player 2'\n",
    "\n",
    "        else:\n",
    "            # Player2's turn.\n",
    "            \n",
    "            display_board(theboard)\n",
    "            position = player_choice(theboard)\n",
    "            place_marker(theboard, position, player2_marker)\n",
    "\n",
    "            if win_check(theBoard, player2_marker):\n",
    "                display_board(theboard)\n",
    "                print('Player 2 Won!')\n",
    "                game_on = False\n",
    "            else:\n",
    "                if full_board_check(theboard):\n",
    "                    display_board(theboard)\n",
    "                    print('Its a Tie ;-;!')\n",
    "                    break\n",
    "                else:\n",
    "                    turn = 'Player 1'\n",
    "\n",
    "    if not replay():\n",
    "        break"
   ]
  },
  {
   "cell_type": "code",
   "execution_count": null,
   "id": "ea2a4150",
   "metadata": {},
   "outputs": [],
   "source": []
  }
 ],
 "metadata": {
  "kernelspec": {
   "display_name": "Python 3 (ipykernel)",
   "language": "python",
   "name": "python3"
  },
  "language_info": {
   "codemirror_mode": {
    "name": "ipython",
    "version": 3
   },
   "file_extension": ".py",
   "mimetype": "text/x-python",
   "name": "python",
   "nbconvert_exporter": "python",
   "pygments_lexer": "ipython3",
   "version": "3.9.12"
  }
 },
 "nbformat": 4,
 "nbformat_minor": 5
}
